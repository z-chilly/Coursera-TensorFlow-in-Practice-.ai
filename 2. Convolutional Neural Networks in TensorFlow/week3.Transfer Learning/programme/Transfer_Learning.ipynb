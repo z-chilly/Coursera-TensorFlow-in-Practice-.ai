{
  "nbformat": 4,
  "nbformat_minor": 0,
  "metadata": {
    "colab": {
      "name": "Transfer Learning.ipynb",
      "provenance": [],
      "collapsed_sections": []
    },
    "kernelspec": {
      "display_name": "Python 3",
      "name": "python3"
    },
    "accelerator": "GPU"
  },
  "cells": [
    {
      "cell_type": "code",
      "metadata": {
        "colab_type": "code",
        "id": "1xJZ5glPPCRz",
        "outputId": "57069f63-1df1-402c-c7f8-c5df9b37fc79",
        "colab": {
          "base_uri": "https://localhost:8080/",
          "height": 221
        }
      },
      "source": [
        "import os\n",
        "\n",
        "from tensorflow.keras import layers\n",
        "from tensorflow.keras import Model\n",
        "!wget --no-check-certificate \\\n",
        "    https://storage.googleapis.com/mledu-datasets/inception_v3_weights_tf_dim_ordering_tf_kernels_notop.h5 \\\n",
        "    -O /tmp/inception_v3_weights_tf_dim_ordering_tf_kernels_notop.h5\n",
        "  \n",
        "from tensorflow.keras.applications.inception_v3 import InceptionV3\n",
        "\n",
        "local_weights_file = '/tmp/inception_v3_weights_tf_dim_ordering_tf_kernels_notop.h5'\n",
        "\n",
        "pre_trained_model = InceptionV3(input_shape = (150, 150, 3), \n",
        "                                include_top = False, \n",
        "                                weights = None)\n",
        "\n",
        "pre_trained_model.load_weights(local_weights_file)\n",
        "\n",
        "for layer in pre_trained_model.layers:\n",
        "  layer.trainable = False\n",
        "  \n",
        "# pre_trained_model.summary()\n",
        "\n",
        "last_layer = pre_trained_model.get_layer('mixed7')\n",
        "print('last layer output shape: ', last_layer.output_shape)\n",
        "last_output = last_layer.output"
      ],
      "execution_count": 2,
      "outputs": [
        {
          "output_type": "stream",
          "text": [
            "--2020-01-25 21:59:05--  https://storage.googleapis.com/mledu-datasets/inception_v3_weights_tf_dim_ordering_tf_kernels_notop.h5\n",
            "Resolving storage.googleapis.com (storage.googleapis.com)... 172.217.203.128, 2607:f8b0:400c:c12::80\n",
            "Connecting to storage.googleapis.com (storage.googleapis.com)|172.217.203.128|:443... connected.\n",
            "HTTP request sent, awaiting response... 200 OK\n",
            "Length: 87910968 (84M) [application/x-hdf]\n",
            "Saving to: ‘/tmp/inception_v3_weights_tf_dim_ordering_tf_kernels_notop.h5’\n",
            "\n",
            "/tmp/inception_v3_w 100%[===================>]  83.84M   197MB/s    in 0.4s    \n",
            "\n",
            "2020-01-25 21:59:06 (197 MB/s) - ‘/tmp/inception_v3_weights_tf_dim_ordering_tf_kernels_notop.h5’ saved [87910968/87910968]\n",
            "\n",
            "last layer output shape:  (None, 7, 7, 768)\n"
          ],
          "name": "stdout"
        }
      ]
    },
    {
      "cell_type": "code",
      "metadata": {
        "colab_type": "code",
        "id": "BMXb913pbvFg",
        "colab": {}
      },
      "source": [
        "from tensorflow.python.keras.optimizers import RMSprop\n",
        "\n",
        "# Flatten the output layer to 1 dimension\n",
        "x = layers.Flatten()(last_output)\n",
        "# Add a fully connected layer with 1,024 hidden units and ReLU activation\n",
        "x = layers.Dense(1024, activation='relu')(x)\n",
        "# Add a dropout rate of 0.2\n",
        "x = layers.Dropout(0.2)(x)                  \n",
        "# Add a final sigmoid layer for classification\n",
        "x = layers.Dense  (1, activation='sigmoid')(x)           \n",
        "\n",
        "model = Model( pre_trained_model.input, x) \n",
        "\n",
        "model.compile(optimizer = RMSprop(lr=0.0001), \n",
        "              loss = 'binary_crossentropy', \n",
        "              metrics = ['acc'])\n"
      ],
      "execution_count": 0,
      "outputs": []
    },
    {
      "cell_type": "code",
      "metadata": {
        "colab_type": "code",
        "id": "O4s8HckqGlnb",
        "outputId": "4cd03438-85b4-4856-f5fe-4a74e83ba318",
        "colab": {
          "base_uri": "https://localhost:8080/",
          "height": 238
        }
      },
      "source": [
        "!wget --no-check-certificate \\\n",
        "        https://storage.googleapis.com/mledu-datasets/cats_and_dogs_filtered.zip \\\n",
        "       -O /tmp/cats_and_dogs_filtered.zip\n",
        "\n",
        "from tensorflow.python.keras.preprocessing.image import ImageDataGenerator\n",
        "\n",
        "import os\n",
        "import zipfile\n",
        "\n",
        "local_zip = '//tmp/cats_and_dogs_filtered.zip'\n",
        "\n",
        "zip_ref = zipfile.ZipFile(local_zip, 'r')\n",
        "\n",
        "zip_ref.extractall('/tmp')\n",
        "zip_ref.close()\n",
        "\n",
        "# Define our example directories and files\n",
        "base_dir = '/tmp/cats_and_dogs_filtered'\n",
        "\n",
        "train_dir = os.path.join( base_dir, 'train')\n",
        "validation_dir = os.path.join( base_dir, 'validation')\n",
        "\n",
        "\n",
        "train_cats_dir = os.path.join(train_dir, 'cats') # Directory with our training cat pictures\n",
        "train_dogs_dir = os.path.join(train_dir, 'dogs') # Directory with our training dog pictures\n",
        "validation_cats_dir = os.path.join(validation_dir, 'cats') # Directory with our validation cat pictures\n",
        "validation_dogs_dir = os.path.join(validation_dir, 'dogs')# Directory with our validation dog pictures\n",
        "\n",
        "train_cat_fnames = os.listdir(train_cats_dir)\n",
        "train_dog_fnames = os.listdir(train_dogs_dir)\n",
        "\n",
        "# Add our data-augmentation parameters to ImageDataGenerator\n",
        "train_datagen = ImageDataGenerator(rescale = 1./255.,\n",
        "                                   rotation_range = 40,\n",
        "                                   width_shift_range = 0.2,\n",
        "                                   height_shift_range = 0.2,\n",
        "                                   shear_range = 0.2,\n",
        "                                   zoom_range = 0.2,\n",
        "                                   horizontal_flip = True)\n",
        "\n",
        "# Note that the validation data should not be augmented!\n",
        "test_datagen = ImageDataGenerator( rescale = 1.0/255. )\n",
        "\n",
        "# Flow training images in batches of 20 using train_datagen generator\n",
        "train_generator = train_datagen.flow_from_directory(train_dir,\n",
        "                                                    batch_size = 20,\n",
        "                                                    class_mode = 'binary', \n",
        "                                                    target_size = (150, 150))     \n",
        "\n",
        "# Flow validation images in batches of 20 using test_datagen generator\n",
        "validation_generator =  test_datagen.flow_from_directory( validation_dir,\n",
        "                                                          batch_size  = 20,\n",
        "                                                          class_mode  = 'binary', \n",
        "                                                          target_size = (150, 150))"
      ],
      "execution_count": 6,
      "outputs": [
        {
          "output_type": "stream",
          "text": [
            "--2020-01-25 21:59:56--  https://storage.googleapis.com/mledu-datasets/cats_and_dogs_filtered.zip\n",
            "Resolving storage.googleapis.com (storage.googleapis.com)... 173.194.216.128, 2607:f8b0:400c:c0a::80\n",
            "Connecting to storage.googleapis.com (storage.googleapis.com)|173.194.216.128|:443... connected.\n",
            "HTTP request sent, awaiting response... 200 OK\n",
            "Length: 68606236 (65M) [application/zip]\n",
            "Saving to: ‘/tmp/cats_and_dogs_filtered.zip’\n",
            "\n",
            "\r          /tmp/cats   0%[                    ]       0  --.-KB/s               \r         /tmp/cats_  71%[=============>      ]  46.80M   234MB/s               \r/tmp/cats_and_dogs_ 100%[===================>]  65.43M   248MB/s    in 0.3s    \n",
            "\n",
            "2020-01-25 21:59:56 (248 MB/s) - ‘/tmp/cats_and_dogs_filtered.zip’ saved [68606236/68606236]\n",
            "\n",
            "Found 2000 images belonging to 2 classes.\n",
            "Found 1000 images belonging to 2 classes.\n"
          ],
          "name": "stdout"
        }
      ]
    },
    {
      "cell_type": "code",
      "metadata": {
        "colab_type": "code",
        "id": "Blhq2MAUeyGA",
        "outputId": "accf76c0-32a7-4663-98e7-3611130a9b58",
        "colab": {
          "base_uri": "https://localhost:8080/",
          "height": 1000
        }
      },
      "source": [
        "history = model.fit_generator(\n",
        "            train_generator,\n",
        "            validation_data = validation_generator,\n",
        "            steps_per_epoch = 100,\n",
        "            epochs = 20,\n",
        "            validation_steps = 50,\n",
        "            verbose = 2)"
      ],
      "execution_count": 7,
      "outputs": [
        {
          "output_type": "stream",
          "text": [
            "Epoch 1/20\n",
            "Epoch 1/20\n",
            "100/100 - 28s - loss: 0.4999 - acc: 0.7630 - val_loss: 0.3930 - val_acc: 0.8820\n",
            "Epoch 2/20\n",
            "Epoch 1/20\n",
            "100/100 - 18s - loss: 0.3991 - acc: 0.8325 - val_loss: 0.2190 - val_acc: 0.9390\n",
            "Epoch 3/20\n",
            "Epoch 1/20\n",
            "100/100 - 18s - loss: 0.3448 - acc: 0.8415 - val_loss: 0.3842 - val_acc: 0.9200\n",
            "Epoch 4/20\n",
            "Epoch 1/20\n",
            "100/100 - 18s - loss: 0.3379 - acc: 0.8600 - val_loss: 0.3102 - val_acc: 0.9450\n",
            "Epoch 5/20\n",
            "Epoch 1/20\n",
            "100/100 - 18s - loss: 0.3215 - acc: 0.8670 - val_loss: 0.2684 - val_acc: 0.9570\n",
            "Epoch 6/20\n",
            "Epoch 1/20\n",
            "100/100 - 18s - loss: 0.2965 - acc: 0.8805 - val_loss: 0.3551 - val_acc: 0.9500\n",
            "Epoch 7/20\n",
            "Epoch 1/20\n",
            "100/100 - 18s - loss: 0.3196 - acc: 0.8655 - val_loss: 0.3806 - val_acc: 0.9520\n",
            "Epoch 8/20\n",
            "Epoch 1/20\n",
            "100/100 - 18s - loss: 0.2806 - acc: 0.8875 - val_loss: 0.4933 - val_acc: 0.9340\n",
            "Epoch 9/20\n",
            "Epoch 1/20\n",
            "100/100 - 18s - loss: 0.2971 - acc: 0.8770 - val_loss: 0.3202 - val_acc: 0.9590\n",
            "Epoch 10/20\n",
            "Epoch 1/20\n",
            "100/100 - 18s - loss: 0.3022 - acc: 0.8815 - val_loss: 0.4708 - val_acc: 0.9440\n",
            "Epoch 11/20\n",
            "Epoch 1/20\n",
            "100/100 - 18s - loss: 0.2908 - acc: 0.8970 - val_loss: 0.5592 - val_acc: 0.9420\n",
            "Epoch 12/20\n",
            "Epoch 1/20\n",
            "100/100 - 18s - loss: 0.2859 - acc: 0.8770 - val_loss: 0.3226 - val_acc: 0.9620\n",
            "Epoch 13/20\n",
            "Epoch 1/20\n",
            "100/100 - 18s - loss: 0.2781 - acc: 0.8890 - val_loss: 0.3756 - val_acc: 0.9580\n",
            "Epoch 14/20\n",
            "Epoch 1/20\n",
            "100/100 - 18s - loss: 0.2737 - acc: 0.8855 - val_loss: 0.3240 - val_acc: 0.9630\n",
            "Epoch 15/20\n",
            "Epoch 1/20\n",
            "100/100 - 18s - loss: 0.2925 - acc: 0.8880 - val_loss: 0.3850 - val_acc: 0.9600\n",
            "Epoch 16/20\n",
            "Epoch 1/20\n",
            "100/100 - 18s - loss: 0.2498 - acc: 0.9040 - val_loss: 0.3207 - val_acc: 0.9600\n",
            "Epoch 17/20\n",
            "Epoch 1/20\n",
            "100/100 - 18s - loss: 0.2824 - acc: 0.8875 - val_loss: 0.3170 - val_acc: 0.9660\n",
            "Epoch 18/20\n",
            "Epoch 1/20\n",
            "100/100 - 18s - loss: 0.2657 - acc: 0.8930 - val_loss: 0.3353 - val_acc: 0.9670\n",
            "Epoch 19/20\n",
            "Epoch 1/20\n",
            "100/100 - 18s - loss: 0.2613 - acc: 0.8930 - val_loss: 0.3418 - val_acc: 0.9650\n",
            "Epoch 20/20\n",
            "Epoch 1/20\n",
            "100/100 - 18s - loss: 0.2558 - acc: 0.9060 - val_loss: 0.3726 - val_acc: 0.9640\n"
          ],
          "name": "stdout"
        }
      ]
    },
    {
      "cell_type": "code",
      "metadata": {
        "id": "C2Fp6Se9rKuL",
        "colab_type": "code",
        "outputId": "bde6d811-5d6f-455e-fcac-a419468a4755",
        "colab": {
          "base_uri": "https://localhost:8080/",
          "height": 298
        }
      },
      "source": [
        "import matplotlib.pyplot as plt\n",
        "acc = history.history['acc']\n",
        "val_acc = history.history['val_acc']\n",
        "loss = history.history['loss']\n",
        "val_loss = history.history['val_loss']\n",
        "\n",
        "epochs = range(len(acc))\n",
        "\n",
        "plt.plot(epochs, acc, 'r', label='Training accuracy')\n",
        "plt.plot(epochs, val_acc, 'b', label='Validation accuracy')\n",
        "plt.title('Training and validation accuracy')\n",
        "plt.legend(loc=0)\n",
        "plt.figure()\n",
        "\n",
        "\n",
        "plt.show()"
      ],
      "execution_count": 8,
      "outputs": [
        {
          "output_type": "display_data",
          "data": {
            "image/png": "[encoded data removed]",
            "text/plain": [
              "<Figure size 432x288 with 1 Axes>"
            ]
          },
          "metadata": {
            "tags": []
          }
        },
        {
          "output_type": "display_data",
          "data": {
            "text/plain": [
              "<Figure size 432x288 with 0 Axes>"
            ]
          },
          "metadata": {
            "tags": []
          }
        }
      ]
    }
  ]
}