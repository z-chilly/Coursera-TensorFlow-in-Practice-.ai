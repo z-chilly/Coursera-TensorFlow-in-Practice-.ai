{
  "nbformat": 4,
  "nbformat_minor": 0,
  "metadata": {
    "colab": {
      "name": "NLP Course - Week 3 Exercise Question.ipynb",
      "provenance": []
    },
    "kernelspec": {
      "name": "python3",
      "display_name": "Python 3"
    },
    "accelerator": "GPU"
  },
  "cells": [
    {
      "cell_type": "code",
      "metadata": {
        "id": "hmA6EzkQJ5jt",
        "colab_type": "code",
        "colab": {}
      },
      "source": [
        "import json\n",
        "import tensorflow as tf\n",
        "import csv\n",
        "import random\n",
        "import numpy as np\n",
        "\n",
        "from tensorflow.keras.preprocessing.text import Tokenizer\n",
        "from tensorflow.keras.preprocessing.sequence import pad_sequences\n",
        "from tensorflow.keras.utils import to_categorical\n",
        "from tensorflow.keras import regularizers\n",
        "\n",
        "\n",
        "embedding_dim = 100\n",
        "max_length = 16\n",
        "trunc_type='post'\n",
        "padding_type='post'\n",
        "oov_tok = \"<OOV>\"\n",
        "training_size=160000\n",
        "test_portion=.1\n",
        "\n",
        "corpus = []\n"
      ],
      "execution_count": 0,
      "outputs": []
    },
    {
      "cell_type": "code",
      "metadata": {
        "id": "bM0l_dORKqE0",
        "colab_type": "code",
        "outputId": "f5026e2b-f6b7-4b56-f7c0-35856e19628d",
        "colab": {
          "base_uri": "https://localhost:8080/",
          "height": 204
        }
      },
      "source": [
        "\n",
        "# Note that I cleaned the Stanford dataset to remove LATIN1 encoding to make it easier for Python CSV reader\n",
        "# You can do that yourself with:\n",
        "# iconv -f LATIN1 -t UTF8 training.1600000.processed.noemoticon.csv -o training_cleaned.csv\n",
        "# I then hosted it on my site to make it easier to use in this notebook\n",
        "\n",
        "!wget --no-check-certificate \\\n",
        "    https://storage.googleapis.com/laurencemoroney-blog.appspot.com/training_cleaned.csv \\\n",
        "    -O /tmp/training_cleaned.csv\n",
        "\n",
        "num_sentences = 0\n",
        "\n",
        "with open(\"/tmp/training_cleaned.csv\") as csvfile:\n",
        "    reader = csv.reader(csvfile, delimiter=',')\n",
        "    for row in reader:\n",
        "        list_item = []\n",
        "        list_item.append(row[5])\n",
        "        this_label = row[0]\n",
        "        if this_label =='0':\n",
        "            list_item.append(0)\n",
        "        else:\n",
        "            list_item.append(1)\n",
        "        num_sentences = num_sentences + 1\n",
        "        corpus.append(list_item)\n",
        "\n",
        "\n"
      ],
      "execution_count": 15,
      "outputs": [
        {
          "output_type": "stream",
          "text": [
            "--2020-02-24 20:39:00--  https://storage.googleapis.com/laurencemoroney-blog.appspot.com/training_cleaned.csv\n",
            "Resolving storage.googleapis.com (storage.googleapis.com)... 172.217.14.112, 2607:f8b0:4007:80e::2010\n",
            "Connecting to storage.googleapis.com (storage.googleapis.com)|172.217.14.112|:443... connected.\n",
            "HTTP request sent, awaiting response... 200 OK\n",
            "Length: 238942690 (228M) [application/octet-stream]\n",
            "Saving to: ‘/tmp/training_cleaned.csv’\n",
            "\n",
            "/tmp/training_clean 100%[===================>] 227.87M   247MB/s    in 0.9s    \n",
            "\n",
            "2020-02-24 20:39:01 (247 MB/s) - ‘/tmp/training_cleaned.csv’ saved [238942690/238942690]\n",
            "\n"
          ],
          "name": "stdout"
        }
      ]
    },
    {
      "cell_type": "code",
      "metadata": {
        "id": "3kxblBUjEUX-",
        "colab_type": "code",
        "outputId": "d1e3fcad-17f1-4be9-c49b-9eb5c666ddc5",
        "colab": {
          "base_uri": "https://localhost:8080/",
          "height": 68
        }
      },
      "source": [
        "print(num_sentences)\n",
        "print(len(corpus))\n",
        "print(corpus[1])\n",
        "\n",
        "# Expected Output:\n",
        "# 1600000\n",
        "# 1600000\n",
        "# [\"is upset that he can't update his Facebook by texting it... and might cry as a result  School today also. Blah!\", 0]"
      ],
      "execution_count": 16,
      "outputs": [
        {
          "output_type": "stream",
          "text": [
            "1600000\n",
            "1600000\n",
            "[\"is upset that he can't update his Facebook by texting it... and might cry as a result  School today also. Blah!\", 0]\n"
          ],
          "name": "stdout"
        }
      ]
    },
    {
      "cell_type": "code",
      "metadata": {
        "id": "ohOGz24lsNAD",
        "colab_type": "code",
        "colab": {}
      },
      "source": [
        "sentences=[]\n",
        "labels=[]\n",
        "random.shuffle(corpus)\n",
        "for x in range(training_size):\n",
        "    sentences.append(corpus[x][0])\n",
        "    labels.append(corpus[x][1])\n",
        "\n",
        "\n",
        "tokenizer = Tokenizer()\n",
        "tokenizer.fit_on_texts(sentences)\n",
        "\n",
        "word_index = tokenizer.word_index\n",
        "vocab_size=len(word_index)\n",
        "\n",
        "sequences = tokenizer.texts_to_sequences(sentences)\n",
        "padded = pad_sequences(sequences, maxlen = max_length, padding = padding_type, truncating = trunc_type)\n",
        "\n",
        "split = int(test_portion * training_size)\n",
        "\n",
        "test_sequences = padded[0:split]\n",
        "training_sequences = padded[split:training_size]\n",
        "test_labels = labels[0:split]\n",
        "training_labels = labels[split:training_size]"
      ],
      "execution_count": 0,
      "outputs": []
    },
    {
      "cell_type": "code",
      "metadata": {
        "id": "gIrtRem1En3N",
        "colab_type": "code",
        "outputId": "14285a30-1dd7-4300-d28e-aaa69c32c783",
        "colab": {
          "base_uri": "https://localhost:8080/",
          "height": 51
        }
      },
      "source": [
        "print(vocab_size)\n",
        "print(word_index['i'])\n",
        "# Expected Output\n",
        "# 138858\n",
        "# 1"
      ],
      "execution_count": 18,
      "outputs": [
        {
          "output_type": "stream",
          "text": [
            "138845\n",
            "1\n"
          ],
          "name": "stdout"
        }
      ]
    },
    {
      "cell_type": "code",
      "metadata": {
        "id": "C1zdgJkusRh0",
        "colab_type": "code",
        "outputId": "b0f9861f-a857-411f-e63c-e8f4ee17d046",
        "colab": {
          "base_uri": "https://localhost:8080/",
          "height": 204
        }
      },
      "source": [
        "# Note this is the 100 dimension version of GloVe from Stanford\n",
        "# I unzipped and hosted it on my site to make this notebook easier\n",
        "!wget --no-check-certificate \\\n",
        "    https://storage.googleapis.com/laurencemoroney-blog.appspot.com/glove.6B.100d.txt \\\n",
        "    -O /tmp/glove.6B.100d.txt\n",
        "embeddings_index = {};\n",
        "with open('/tmp/glove.6B.100d.txt') as f:\n",
        "    for line in f:\n",
        "        values = line.split();\n",
        "        word = values[0];\n",
        "        coefs = np.asarray(values[1:], dtype='float32');\n",
        "        embeddings_index[word] = coefs;\n",
        "\n",
        "embeddings_matrix = np.zeros((vocab_size+1, embedding_dim));\n",
        "for word, i in word_index.items():\n",
        "    embedding_vector = embeddings_index.get(word);\n",
        "    if embedding_vector is not None:\n",
        "        embeddings_matrix[i] = embedding_vector;"
      ],
      "execution_count": 19,
      "outputs": [
        {
          "output_type": "stream",
          "text": [
            "--2020-02-24 20:39:27--  https://storage.googleapis.com/laurencemoroney-blog.appspot.com/glove.6B.100d.txt\n",
            "Resolving storage.googleapis.com (storage.googleapis.com)... 216.58.217.208, 2607:f8b0:4007:80e::2010\n",
            "Connecting to storage.googleapis.com (storage.googleapis.com)|216.58.217.208|:443... connected.\n",
            "HTTP request sent, awaiting response... 200 OK\n",
            "Length: 347116733 (331M) [text/plain]\n",
            "Saving to: ‘/tmp/glove.6B.100d.txt’\n",
            "\n",
            "/tmp/glove.6B.100d. 100%[===================>] 331.04M   124MB/s    in 2.7s    \n",
            "\n",
            "2020-02-24 20:39:30 (124 MB/s) - ‘/tmp/glove.6B.100d.txt’ saved [347116733/347116733]\n",
            "\n"
          ],
          "name": "stdout"
        }
      ]
    },
    {
      "cell_type": "code",
      "metadata": {
        "id": "71NLk_lpFLNt",
        "colab_type": "code",
        "outputId": "d9a0b2bd-577d-47e9-ef54-8af43ab32769",
        "colab": {
          "base_uri": "https://localhost:8080/",
          "height": 34
        }
      },
      "source": [
        "print(len(embeddings_matrix))\n",
        "# Expected Output\n",
        "# 138859"
      ],
      "execution_count": 20,
      "outputs": [
        {
          "output_type": "stream",
          "text": [
            "138846\n"
          ],
          "name": "stdout"
        }
      ]
    },
    {
      "cell_type": "code",
      "metadata": {
        "colab_type": "code",
        "id": "iKKvbuEBOGFz",
        "colab": {
          "base_uri": "https://localhost:8080/",
          "height": 1000
        },
        "outputId": "2f87e875-898a-4741-e427-11cb03fbcccd"
      },
      "source": [
        "model = tf.keras.Sequential([\n",
        "    tf.keras.layers.Embedding(vocab_size+1, embedding_dim, input_length=max_length, weights=[embeddings_matrix], trainable=False),\n",
        "    tf.keras.layers.Dropout(0.2),\n",
        "    tf.keras.layers.Conv1D(64, 5, activation='relu'),\n",
        "    tf.keras.layers.MaxPooling1D(pool_size = 4),\n",
        "    tf.keras.layers.LSTM(64),\n",
        "    tf.keras.layers.Dense(1, activation = 'sigmoid')\n",
        "])\n",
        "model.compile(loss = 'binary_crossentropy', optimizer = 'adam', metrics = ['accuracy'])\n",
        "model.summary()\n",
        "\n",
        "num_epochs = 50\n",
        "history = model.fit(training_sequences, training_labels, epochs=num_epochs, validation_data=(test_sequences, test_labels), verbose=2)\n",
        "\n",
        "print(\"Training Complete\")\n"
      ],
      "execution_count": 21,
      "outputs": [
        {
          "output_type": "stream",
          "text": [
            "WARNING:tensorflow:From /usr/local/lib/python3.6/dist-packages/tensorflow_core/python/keras/initializers.py:119: calling RandomUniform.__init__ (from tensorflow.python.ops.init_ops) with dtype is deprecated and will be removed in a future version.\n",
            "Instructions for updating:\n",
            "Call initializer instance with the dtype argument instead of passing it to the constructor\n",
            "WARNING:tensorflow:From /usr/local/lib/python3.6/dist-packages/tensorflow_core/python/ops/resource_variable_ops.py:1630: calling BaseResourceVariable.__init__ (from tensorflow.python.ops.resource_variable_ops) with constraint is deprecated and will be removed in a future version.\n",
            "Instructions for updating:\n",
            "If using Keras pass *_constraint arguments to layers.\n",
            "WARNING:tensorflow:From /usr/local/lib/python3.6/dist-packages/tensorflow_core/python/ops/nn_impl.py:183: where (from tensorflow.python.ops.array_ops) is deprecated and will be removed in a future version.\n",
            "Instructions for updating:\n",
            "Use tf.where in 2.0, which has the same broadcast rule as np.where\n",
            "Model: \"sequential\"\n",
            "_________________________________________________________________\n",
            "Layer (type)                 Output Shape              Param #   \n",
            "=================================================================\n",
            "embedding (Embedding)        (None, 16, 100)           13884600  \n",
            "_________________________________________________________________\n",
            "dropout (Dropout)            (None, 16, 100)           0         \n",
            "_________________________________________________________________\n",
            "conv1d (Conv1D)              (None, 12, 64)            32064     \n",
            "_________________________________________________________________\n",
            "max_pooling1d (MaxPooling1D) (None, 3, 64)             0         \n",
            "_________________________________________________________________\n",
            "lstm (LSTM)                  (None, 64)                33024     \n",
            "_________________________________________________________________\n",
            "dense (Dense)                (None, 1)                 65        \n",
            "=================================================================\n",
            "Total params: 13,949,753\n",
            "Trainable params: 65,153\n",
            "Non-trainable params: 13,884,600\n",
            "_________________________________________________________________\n",
            "Train on 144000 samples, validate on 16000 samples\n",
            "Epoch 1/50\n",
            "144000/144000 - 43s - loss: 0.5662 - acc: 0.7007 - val_loss: 0.5313 - val_acc: 0.7266\n",
            "Epoch 2/50\n",
            "144000/144000 - 35s - loss: 0.5247 - acc: 0.7336 - val_loss: 0.5212 - val_acc: 0.7341\n",
            "Epoch 3/50\n",
            "144000/144000 - 36s - loss: 0.5079 - acc: 0.7453 - val_loss: 0.5130 - val_acc: 0.7437\n",
            "Epoch 4/50\n",
            "144000/144000 - 35s - loss: 0.4971 - acc: 0.7539 - val_loss: 0.5044 - val_acc: 0.7484\n",
            "Epoch 5/50\n",
            "144000/144000 - 36s - loss: 0.4881 - acc: 0.7597 - val_loss: 0.5095 - val_acc: 0.7473\n",
            "Epoch 6/50\n",
            "144000/144000 - 35s - loss: 0.4810 - acc: 0.7630 - val_loss: 0.5011 - val_acc: 0.7518\n",
            "Epoch 7/50\n",
            "144000/144000 - 34s - loss: 0.4767 - acc: 0.7674 - val_loss: 0.5004 - val_acc: 0.7511\n",
            "Epoch 8/50\n",
            "144000/144000 - 35s - loss: 0.4715 - acc: 0.7699 - val_loss: 0.5079 - val_acc: 0.7507\n",
            "Epoch 9/50\n",
            "144000/144000 - 34s - loss: 0.4666 - acc: 0.7721 - val_loss: 0.5042 - val_acc: 0.7528\n",
            "Epoch 10/50\n",
            "144000/144000 - 34s - loss: 0.4619 - acc: 0.7762 - val_loss: 0.5062 - val_acc: 0.7507\n",
            "Epoch 11/50\n",
            "144000/144000 - 34s - loss: 0.4574 - acc: 0.7791 - val_loss: 0.5058 - val_acc: 0.7515\n",
            "Epoch 12/50\n",
            "144000/144000 - 35s - loss: 0.4558 - acc: 0.7804 - val_loss: 0.5114 - val_acc: 0.7507\n",
            "Epoch 13/50\n",
            "144000/144000 - 34s - loss: 0.4542 - acc: 0.7810 - val_loss: 0.5082 - val_acc: 0.7485\n",
            "Epoch 14/50\n",
            "144000/144000 - 34s - loss: 0.4512 - acc: 0.7832 - val_loss: 0.5110 - val_acc: 0.7500\n",
            "Epoch 15/50\n",
            "144000/144000 - 35s - loss: 0.4490 - acc: 0.7846 - val_loss: 0.5134 - val_acc: 0.7478\n",
            "Epoch 16/50\n",
            "144000/144000 - 34s - loss: 0.4487 - acc: 0.7837 - val_loss: 0.5126 - val_acc: 0.7484\n",
            "Epoch 17/50\n",
            "144000/144000 - 36s - loss: 0.4460 - acc: 0.7855 - val_loss: 0.5187 - val_acc: 0.7491\n",
            "Epoch 18/50\n",
            "144000/144000 - 34s - loss: 0.4442 - acc: 0.7870 - val_loss: 0.5208 - val_acc: 0.7500\n",
            "Epoch 19/50\n",
            "144000/144000 - 35s - loss: 0.4430 - acc: 0.7874 - val_loss: 0.5201 - val_acc: 0.7481\n",
            "Epoch 20/50\n",
            "144000/144000 - 35s - loss: 0.4424 - acc: 0.7877 - val_loss: 0.5171 - val_acc: 0.7481\n",
            "Epoch 21/50\n",
            "144000/144000 - 35s - loss: 0.4411 - acc: 0.7892 - val_loss: 0.5141 - val_acc: 0.7476\n",
            "Epoch 22/50\n",
            "144000/144000 - 35s - loss: 0.4387 - acc: 0.7896 - val_loss: 0.5311 - val_acc: 0.7363\n",
            "Epoch 23/50\n",
            "144000/144000 - 34s - loss: 0.4389 - acc: 0.7904 - val_loss: 0.5189 - val_acc: 0.7504\n",
            "Epoch 24/50\n",
            "144000/144000 - 35s - loss: 0.4372 - acc: 0.7909 - val_loss: 0.5189 - val_acc: 0.7485\n",
            "Epoch 25/50\n",
            "144000/144000 - 34s - loss: 0.4373 - acc: 0.7904 - val_loss: 0.5184 - val_acc: 0.7473\n",
            "Epoch 26/50\n",
            "144000/144000 - 34s - loss: 0.4367 - acc: 0.7912 - val_loss: 0.5184 - val_acc: 0.7480\n",
            "Epoch 27/50\n",
            "144000/144000 - 34s - loss: 0.4341 - acc: 0.7930 - val_loss: 0.5220 - val_acc: 0.7484\n",
            "Epoch 28/50\n",
            "144000/144000 - 34s - loss: 0.4358 - acc: 0.7913 - val_loss: 0.5249 - val_acc: 0.7461\n",
            "Epoch 29/50\n",
            "144000/144000 - 34s - loss: 0.4320 - acc: 0.7953 - val_loss: 0.5295 - val_acc: 0.7453\n",
            "Epoch 30/50\n",
            "144000/144000 - 34s - loss: 0.4319 - acc: 0.7935 - val_loss: 0.5204 - val_acc: 0.7471\n",
            "Epoch 31/50\n",
            "144000/144000 - 35s - loss: 0.4325 - acc: 0.7942 - val_loss: 0.5273 - val_acc: 0.7457\n",
            "Epoch 32/50\n",
            "144000/144000 - 34s - loss: 0.4320 - acc: 0.7933 - val_loss: 0.5361 - val_acc: 0.7424\n",
            "Epoch 33/50\n",
            "144000/144000 - 34s - loss: 0.4320 - acc: 0.7936 - val_loss: 0.5217 - val_acc: 0.7457\n",
            "Epoch 34/50\n",
            "144000/144000 - 33s - loss: 0.4317 - acc: 0.7944 - val_loss: 0.5189 - val_acc: 0.7454\n",
            "Epoch 35/50\n",
            "144000/144000 - 33s - loss: 0.4313 - acc: 0.7945 - val_loss: 0.5275 - val_acc: 0.7434\n",
            "Epoch 36/50\n",
            "144000/144000 - 33s - loss: 0.4298 - acc: 0.7949 - val_loss: 0.5251 - val_acc: 0.7434\n",
            "Epoch 37/50\n",
            "144000/144000 - 34s - loss: 0.4300 - acc: 0.7944 - val_loss: 0.5230 - val_acc: 0.7501\n",
            "Epoch 38/50\n",
            "144000/144000 - 33s - loss: 0.4296 - acc: 0.7965 - val_loss: 0.5274 - val_acc: 0.7458\n",
            "Epoch 39/50\n",
            "144000/144000 - 33s - loss: 0.4278 - acc: 0.7968 - val_loss: 0.5249 - val_acc: 0.7458\n",
            "Epoch 40/50\n",
            "144000/144000 - 34s - loss: 0.4283 - acc: 0.7966 - val_loss: 0.5257 - val_acc: 0.7480\n",
            "Epoch 41/50\n",
            "144000/144000 - 34s - loss: 0.4300 - acc: 0.7963 - val_loss: 0.5294 - val_acc: 0.7498\n",
            "Epoch 42/50\n",
            "144000/144000 - 35s - loss: 0.4283 - acc: 0.7972 - val_loss: 0.5257 - val_acc: 0.7466\n",
            "Epoch 43/50\n",
            "144000/144000 - 34s - loss: 0.4273 - acc: 0.7971 - val_loss: 0.5244 - val_acc: 0.7506\n",
            "Epoch 44/50\n",
            "144000/144000 - 34s - loss: 0.4267 - acc: 0.7965 - val_loss: 0.5243 - val_acc: 0.7507\n",
            "Epoch 45/50\n",
            "144000/144000 - 35s - loss: 0.4274 - acc: 0.7969 - val_loss: 0.5258 - val_acc: 0.7444\n",
            "Epoch 46/50\n",
            "144000/144000 - 33s - loss: 0.4265 - acc: 0.7977 - val_loss: 0.5238 - val_acc: 0.7483\n",
            "Epoch 47/50\n",
            "144000/144000 - 34s - loss: 0.4261 - acc: 0.7976 - val_loss: 0.5256 - val_acc: 0.7471\n",
            "Epoch 48/50\n",
            "144000/144000 - 34s - loss: 0.4253 - acc: 0.7981 - val_loss: 0.5313 - val_acc: 0.7429\n",
            "Epoch 49/50\n",
            "144000/144000 - 34s - loss: 0.4269 - acc: 0.7973 - val_loss: 0.5189 - val_acc: 0.7487\n",
            "Epoch 50/50\n",
            "Training Complete\n"
          ],
          "name": "stdout"
        }
      ]
    },
    {
      "cell_type": "code",
      "metadata": {
        "id": "qxju4ItJKO8F",
        "colab_type": "code",
        "colab": {
          "base_uri": "https://localhost:8080/",
          "height": 607
        },
        "outputId": "56f4f149-6921-4522-a97b-be6a9504e4bc"
      },
      "source": [
        "import matplotlib.image  as mpimg\n",
        "import matplotlib.pyplot as plt\n",
        "\n",
        "#-----------------------------------------------------------\n",
        "# Retrieve a list of list results on training and test data\n",
        "# sets for each training epoch\n",
        "#-----------------------------------------------------------\n",
        "acc=history.history['acc']\n",
        "val_acc=history.history['val_acc']\n",
        "loss=history.history['loss']\n",
        "val_loss=history.history['val_loss']\n",
        "\n",
        "epochs=range(len(acc)) # Get number of epochs\n",
        "\n",
        "#------------------------------------------------\n",
        "# Plot training and validation accuracy per epoch\n",
        "#------------------------------------------------\n",
        "plt.plot(epochs, acc, 'r')\n",
        "plt.plot(epochs, val_acc, 'b')\n",
        "plt.title('Training and validation accuracy')\n",
        "plt.xlabel(\"Epochs\")\n",
        "plt.ylabel(\"Accuracy\")\n",
        "plt.legend([\"Accuracy\", \"Validation Accuracy\"])\n",
        "\n",
        "plt.figure()\n",
        "\n",
        "#------------------------------------------------\n",
        "# Plot training and validation loss per epoch\n",
        "#------------------------------------------------\n",
        "plt.plot(epochs, loss, 'r')\n",
        "plt.plot(epochs, val_loss, 'b')\n",
        "plt.title('Training and validation loss')\n",
        "plt.xlabel(\"Epochs\")\n",
        "plt.ylabel(\"Loss\")\n",
        "plt.legend([\"Loss\", \"Validation Loss\"])\n",
        "\n",
        "plt.figure()\n",
        "\n",
        "\n",
        "# Expected Output\n",
        "# A chart where the validation loss does not increase sharply!"
      ],
      "execution_count": 22,
      "outputs": [
        {
          "output_type": "execute_result",
          "data": {
            "text/plain": [
              "<Figure size 432x288 with 0 Axes>"
            ]
          },
          "metadata": {
            "tags": []
          },
          "execution_count": 22
        },
        {
          "output_type": "display_data",
          "data": {
            "image/png": "[encoded data removed]",
            "text/plain": [
              "<Figure size 432x288 with 1 Axes>"
            ]
          },
          "metadata": {
            "tags": []
          }
        },
        {
          "output_type": "display_data",
          "data": {
            "image/png": "[encoded data removed]",
            "text/plain": [
              "<Figure size 432x288 with 1 Axes>"
            ]
          },
          "metadata": {
            "tags": []
          }
        },
        {
          "output_type": "display_data",
          "data": {
            "text/plain": [
              "<Figure size 432x288 with 0 Axes>"
            ]
          },
          "metadata": {
            "tags": []
          }
        }
      ]
    },
    {
      "cell_type": "code",
      "metadata": {
        "id": "OG9_GZ4pEr5h",
        "colab_type": "code",
        "colab": {}
      },
      "source": [
        ""
      ],
      "execution_count": 0,
      "outputs": []
    }
  ]
}